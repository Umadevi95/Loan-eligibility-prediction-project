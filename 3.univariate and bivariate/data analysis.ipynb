{
 "cells": [
  {
   "cell_type": "code",
   "execution_count": 1,
   "id": "d4722fcb",
   "metadata": {},
   "outputs": [],
   "source": [
    "import pandas as pd\n",
    "import matplotlib.pyplot as plt\n",
    "import seaborn as sns\n",
    "import numpy as np\n",
    "\n"
   ]
  },
  {
   "cell_type": "code",
   "execution_count": 2,
   "id": "c9e504db",
   "metadata": {},
   "outputs": [],
   "source": [
    "dataset=pd.read_csv(\"loan_approval_dataset.csv\")"
   ]
  },
  {
   "cell_type": "code",
   "execution_count": 3,
   "id": "efff245c",
   "metadata": {
    "scrolled": false
   },
   "outputs": [
    {
     "data": {
      "text/html": [
       "<div>\n",
       "<style scoped>\n",
       "    .dataframe tbody tr th:only-of-type {\n",
       "        vertical-align: middle;\n",
       "    }\n",
       "\n",
       "    .dataframe tbody tr th {\n",
       "        vertical-align: top;\n",
       "    }\n",
       "\n",
       "    .dataframe thead th {\n",
       "        text-align: right;\n",
       "    }\n",
       "</style>\n",
       "<table border=\"1\" class=\"dataframe\">\n",
       "  <thead>\n",
       "    <tr style=\"text-align: right;\">\n",
       "      <th></th>\n",
       "      <th>loan_id</th>\n",
       "      <th>no_of_dependents</th>\n",
       "      <th>education</th>\n",
       "      <th>self_employed</th>\n",
       "      <th>income_annum</th>\n",
       "      <th>loan_amount</th>\n",
       "      <th>loan_term</th>\n",
       "      <th>cibil_score</th>\n",
       "      <th>residential_assets_value</th>\n",
       "      <th>commercial_assets_value</th>\n",
       "      <th>luxury_assets_value</th>\n",
       "      <th>bank_asset_value</th>\n",
       "      <th>loan_status</th>\n",
       "    </tr>\n",
       "  </thead>\n",
       "  <tbody>\n",
       "    <tr>\n",
       "      <th>0</th>\n",
       "      <td>1</td>\n",
       "      <td>2</td>\n",
       "      <td>Graduate</td>\n",
       "      <td>No</td>\n",
       "      <td>9600000</td>\n",
       "      <td>29900000</td>\n",
       "      <td>12</td>\n",
       "      <td>778</td>\n",
       "      <td>2400000</td>\n",
       "      <td>17600000</td>\n",
       "      <td>22700000</td>\n",
       "      <td>8000000</td>\n",
       "      <td>Approved</td>\n",
       "    </tr>\n",
       "    <tr>\n",
       "      <th>1</th>\n",
       "      <td>2</td>\n",
       "      <td>0</td>\n",
       "      <td>Not Graduate</td>\n",
       "      <td>Yes</td>\n",
       "      <td>4100000</td>\n",
       "      <td>12200000</td>\n",
       "      <td>8</td>\n",
       "      <td>417</td>\n",
       "      <td>2700000</td>\n",
       "      <td>2200000</td>\n",
       "      <td>8800000</td>\n",
       "      <td>3300000</td>\n",
       "      <td>Rejected</td>\n",
       "    </tr>\n",
       "    <tr>\n",
       "      <th>2</th>\n",
       "      <td>3</td>\n",
       "      <td>3</td>\n",
       "      <td>Graduate</td>\n",
       "      <td>No</td>\n",
       "      <td>9100000</td>\n",
       "      <td>29700000</td>\n",
       "      <td>20</td>\n",
       "      <td>506</td>\n",
       "      <td>7100000</td>\n",
       "      <td>4500000</td>\n",
       "      <td>33300000</td>\n",
       "      <td>12800000</td>\n",
       "      <td>Rejected</td>\n",
       "    </tr>\n",
       "    <tr>\n",
       "      <th>3</th>\n",
       "      <td>4</td>\n",
       "      <td>3</td>\n",
       "      <td>Graduate</td>\n",
       "      <td>No</td>\n",
       "      <td>8200000</td>\n",
       "      <td>30700000</td>\n",
       "      <td>8</td>\n",
       "      <td>467</td>\n",
       "      <td>18200000</td>\n",
       "      <td>3300000</td>\n",
       "      <td>23300000</td>\n",
       "      <td>7900000</td>\n",
       "      <td>Rejected</td>\n",
       "    </tr>\n",
       "    <tr>\n",
       "      <th>4</th>\n",
       "      <td>5</td>\n",
       "      <td>5</td>\n",
       "      <td>Not Graduate</td>\n",
       "      <td>Yes</td>\n",
       "      <td>9800000</td>\n",
       "      <td>24200000</td>\n",
       "      <td>20</td>\n",
       "      <td>382</td>\n",
       "      <td>12400000</td>\n",
       "      <td>8200000</td>\n",
       "      <td>29400000</td>\n",
       "      <td>5000000</td>\n",
       "      <td>Rejected</td>\n",
       "    </tr>\n",
       "    <tr>\n",
       "      <th>...</th>\n",
       "      <td>...</td>\n",
       "      <td>...</td>\n",
       "      <td>...</td>\n",
       "      <td>...</td>\n",
       "      <td>...</td>\n",
       "      <td>...</td>\n",
       "      <td>...</td>\n",
       "      <td>...</td>\n",
       "      <td>...</td>\n",
       "      <td>...</td>\n",
       "      <td>...</td>\n",
       "      <td>...</td>\n",
       "      <td>...</td>\n",
       "    </tr>\n",
       "    <tr>\n",
       "      <th>4264</th>\n",
       "      <td>4265</td>\n",
       "      <td>5</td>\n",
       "      <td>Graduate</td>\n",
       "      <td>Yes</td>\n",
       "      <td>1000000</td>\n",
       "      <td>2300000</td>\n",
       "      <td>12</td>\n",
       "      <td>317</td>\n",
       "      <td>2800000</td>\n",
       "      <td>500000</td>\n",
       "      <td>3300000</td>\n",
       "      <td>800000</td>\n",
       "      <td>Rejected</td>\n",
       "    </tr>\n",
       "    <tr>\n",
       "      <th>4265</th>\n",
       "      <td>4266</td>\n",
       "      <td>0</td>\n",
       "      <td>Not Graduate</td>\n",
       "      <td>Yes</td>\n",
       "      <td>3300000</td>\n",
       "      <td>11300000</td>\n",
       "      <td>20</td>\n",
       "      <td>559</td>\n",
       "      <td>4200000</td>\n",
       "      <td>2900000</td>\n",
       "      <td>11000000</td>\n",
       "      <td>1900000</td>\n",
       "      <td>Approved</td>\n",
       "    </tr>\n",
       "    <tr>\n",
       "      <th>4266</th>\n",
       "      <td>4267</td>\n",
       "      <td>2</td>\n",
       "      <td>Not Graduate</td>\n",
       "      <td>No</td>\n",
       "      <td>6500000</td>\n",
       "      <td>23900000</td>\n",
       "      <td>18</td>\n",
       "      <td>457</td>\n",
       "      <td>1200000</td>\n",
       "      <td>12400000</td>\n",
       "      <td>18100000</td>\n",
       "      <td>7300000</td>\n",
       "      <td>Rejected</td>\n",
       "    </tr>\n",
       "    <tr>\n",
       "      <th>4267</th>\n",
       "      <td>4268</td>\n",
       "      <td>1</td>\n",
       "      <td>Not Graduate</td>\n",
       "      <td>No</td>\n",
       "      <td>4100000</td>\n",
       "      <td>12800000</td>\n",
       "      <td>8</td>\n",
       "      <td>780</td>\n",
       "      <td>8200000</td>\n",
       "      <td>700000</td>\n",
       "      <td>14100000</td>\n",
       "      <td>5800000</td>\n",
       "      <td>Approved</td>\n",
       "    </tr>\n",
       "    <tr>\n",
       "      <th>4268</th>\n",
       "      <td>4269</td>\n",
       "      <td>1</td>\n",
       "      <td>Graduate</td>\n",
       "      <td>No</td>\n",
       "      <td>9200000</td>\n",
       "      <td>29700000</td>\n",
       "      <td>10</td>\n",
       "      <td>607</td>\n",
       "      <td>17800000</td>\n",
       "      <td>11800000</td>\n",
       "      <td>35700000</td>\n",
       "      <td>12000000</td>\n",
       "      <td>Approved</td>\n",
       "    </tr>\n",
       "  </tbody>\n",
       "</table>\n",
       "<p>4269 rows × 13 columns</p>\n",
       "</div>"
      ],
      "text/plain": [
       "      loan_id   no_of_dependents      education  self_employed   income_annum  \\\n",
       "0           1                  2       Graduate             No        9600000   \n",
       "1           2                  0   Not Graduate            Yes        4100000   \n",
       "2           3                  3       Graduate             No        9100000   \n",
       "3           4                  3       Graduate             No        8200000   \n",
       "4           5                  5   Not Graduate            Yes        9800000   \n",
       "...       ...                ...            ...            ...            ...   \n",
       "4264     4265                  5       Graduate            Yes        1000000   \n",
       "4265     4266                  0   Not Graduate            Yes        3300000   \n",
       "4266     4267                  2   Not Graduate             No        6500000   \n",
       "4267     4268                  1   Not Graduate             No        4100000   \n",
       "4268     4269                  1       Graduate             No        9200000   \n",
       "\n",
       "       loan_amount   loan_term   cibil_score   residential_assets_value  \\\n",
       "0         29900000          12           778                    2400000   \n",
       "1         12200000           8           417                    2700000   \n",
       "2         29700000          20           506                    7100000   \n",
       "3         30700000           8           467                   18200000   \n",
       "4         24200000          20           382                   12400000   \n",
       "...            ...         ...           ...                        ...   \n",
       "4264       2300000          12           317                    2800000   \n",
       "4265      11300000          20           559                    4200000   \n",
       "4266      23900000          18           457                    1200000   \n",
       "4267      12800000           8           780                    8200000   \n",
       "4268      29700000          10           607                   17800000   \n",
       "\n",
       "       commercial_assets_value   luxury_assets_value   bank_asset_value  \\\n",
       "0                     17600000              22700000            8000000   \n",
       "1                      2200000               8800000            3300000   \n",
       "2                      4500000              33300000           12800000   \n",
       "3                      3300000              23300000            7900000   \n",
       "4                      8200000              29400000            5000000   \n",
       "...                        ...                   ...                ...   \n",
       "4264                    500000               3300000             800000   \n",
       "4265                   2900000              11000000            1900000   \n",
       "4266                  12400000              18100000            7300000   \n",
       "4267                    700000              14100000            5800000   \n",
       "4268                  11800000              35700000           12000000   \n",
       "\n",
       "      loan_status  \n",
       "0        Approved  \n",
       "1        Rejected  \n",
       "2        Rejected  \n",
       "3        Rejected  \n",
       "4        Rejected  \n",
       "...           ...  \n",
       "4264     Rejected  \n",
       "4265     Approved  \n",
       "4266     Rejected  \n",
       "4267     Approved  \n",
       "4268     Approved  \n",
       "\n",
       "[4269 rows x 13 columns]"
      ]
     },
     "execution_count": 3,
     "metadata": {},
     "output_type": "execute_result"
    }
   ],
   "source": [
    "dataset"
   ]
  },
  {
   "cell_type": "code",
   "execution_count": 4,
   "id": "4a186116",
   "metadata": {},
   "outputs": [
    {
     "data": {
      "text/plain": [
       "(4269, 13)"
      ]
     },
     "execution_count": 4,
     "metadata": {},
     "output_type": "execute_result"
    }
   ],
   "source": [
    "rows, columns = dataset.shape\n",
    "rows, columns"
   ]
  },
  {
   "cell_type": "markdown",
   "id": "a34bfd3f",
   "metadata": {},
   "source": [
    "# 1.Replace Nan values"
   ]
  },
  {
   "cell_type": "code",
   "execution_count": 5,
   "id": "088b52bc",
   "metadata": {
    "scrolled": true
   },
   "outputs": [
    {
     "data": {
      "text/plain": [
       "loan_id                      0\n",
       " no_of_dependents            0\n",
       " education                   0\n",
       " self_employed               0\n",
       " income_annum                0\n",
       " loan_amount                 0\n",
       " loan_term                   0\n",
       " cibil_score                 0\n",
       " residential_assets_value    0\n",
       " commercial_assets_value     0\n",
       " luxury_assets_value         0\n",
       " bank_asset_value            0\n",
       " loan_status                 0\n",
       "dtype: int64"
      ]
     },
     "execution_count": 5,
     "metadata": {},
     "output_type": "execute_result"
    }
   ],
   "source": [
    "\n",
    "dataset.isnull().sum()"
   ]
  },
  {
   "cell_type": "code",
   "execution_count": 6,
   "id": "0c179113",
   "metadata": {},
   "outputs": [],
   "source": [
    "column_data_types = dataset.dtypes"
   ]
  },
  {
   "cell_type": "code",
   "execution_count": 7,
   "id": "38eda034",
   "metadata": {
    "scrolled": false
   },
   "outputs": [
    {
     "data": {
      "text/plain": [
       "loan_id                       int64\n",
       " no_of_dependents             int64\n",
       " education                   object\n",
       " self_employed               object\n",
       " income_annum                 int64\n",
       " loan_amount                  int64\n",
       " loan_term                    int64\n",
       " cibil_score                  int64\n",
       " residential_assets_value     int64\n",
       " commercial_assets_value      int64\n",
       " luxury_assets_value          int64\n",
       " bank_asset_value             int64\n",
       " loan_status                 object\n",
       "dtype: object"
      ]
     },
     "execution_count": 7,
     "metadata": {},
     "output_type": "execute_result"
    }
   ],
   "source": [
    "column_data_types"
   ]
  },
  {
   "cell_type": "code",
   "execution_count": 8,
   "id": "181aecbc",
   "metadata": {
    "scrolled": true
   },
   "outputs": [
    {
     "data": {
      "text/plain": [
       "Index(['loan_id', ' no_of_dependents', ' education', ' self_employed',\n",
       "       ' income_annum', ' loan_amount', ' loan_term', ' cibil_score',\n",
       "       ' residential_assets_value', ' commercial_assets_value',\n",
       "       ' luxury_assets_value', ' bank_asset_value', ' loan_status'],\n",
       "      dtype='object')"
      ]
     },
     "execution_count": 8,
     "metadata": {},
     "output_type": "execute_result"
    }
   ],
   "source": [
    "dataset.columns"
   ]
  },
  {
   "cell_type": "code",
   "execution_count": 9,
   "id": "e79c66b3",
   "metadata": {
    "scrolled": true
   },
   "outputs": [
    {
     "name": "stdout",
     "output_type": "stream",
     "text": [
      "loan_id                      [1, 2, 3, 4, 5, 6, 7, 8, 9, 10, 11, 12, 13, 14...\n",
      " no_of_dependents                                           [2, 0, 3, 5, 4, 1]\n",
      " education                                          [ Graduate,  Not Graduate]\n",
      " self_employed                                                     [ No,  Yes]\n",
      " income_annum                [9600000, 4100000, 9100000, 8200000, 9800000, ...\n",
      " loan_amount                 [29900000, 12200000, 29700000, 30700000, 24200...\n",
      " loan_term                                [12, 8, 20, 10, 4, 2, 18, 16, 14, 6]\n",
      " cibil_score                 [778, 417, 506, 467, 382, 319, 678, 782, 388, ...\n",
      " residential_assets_value    [2400000, 2700000, 7100000, 18200000, 12400000...\n",
      " commercial_assets_value     [17600000, 2200000, 4500000, 3300000, 8200000,...\n",
      " luxury_assets_value         [22700000, 8800000, 33300000, 23300000, 294000...\n",
      " bank_asset_value            [8000000, 3300000, 12800000, 7900000, 5000000,...\n",
      " loan_status                                            [ Approved,  Rejected]\n",
      "dtype: object\n"
     ]
    }
   ],
   "source": [
    "unique_values = dataset.apply(pd.unique)\n",
    "\n",
    "print(unique_values)"
   ]
  },
  {
   "cell_type": "code",
   "execution_count": 10,
   "id": "e9f8810f",
   "metadata": {
    "scrolled": false
   },
   "outputs": [
    {
     "data": {
      "text/plain": [
       "0        Approved\n",
       "1        Rejected\n",
       "2        Rejected\n",
       "3        Rejected\n",
       "4        Rejected\n",
       "          ...    \n",
       "4264     Rejected\n",
       "4265     Approved\n",
       "4266     Rejected\n",
       "4267     Approved\n",
       "4268     Approved\n",
       "Name:  loan_status, Length: 4269, dtype: object"
      ]
     },
     "execution_count": 10,
     "metadata": {},
     "output_type": "execute_result"
    }
   ],
   "source": [
    "dataset[' loan_status'].astype(str)"
   ]
  },
  {
   "cell_type": "markdown",
   "id": "ba4424cd",
   "metadata": {},
   "source": [
    "# 2.How many loans are approved from overall data"
   ]
  },
  {
   "cell_type": "code",
   "execution_count": 11,
   "id": "14113a96",
   "metadata": {},
   "outputs": [
    {
     "name": "stdout",
     "output_type": "stream",
     "text": [
      "2656\n"
     ]
    }
   ],
   "source": [
    "# Convert 'loan_status' column to string\n",
    "dataset[' loan_status'] = dataset[' loan_status'].astype(str)\n",
    "\n",
    "# Count the occurrences of 'Approved' after removing leading/trailing whitespace\n",
    "approved_count = (dataset[' loan_status'].str.strip() == 'Approved').sum()\n",
    "\n",
    "# Display the result\n",
    "print(approved_count)"
   ]
  },
  {
   "cell_type": "code",
   "execution_count": 12,
   "id": "a15840fa",
   "metadata": {
    "scrolled": true
   },
   "outputs": [
    {
     "data": {
      "image/png": "[encoded data removed]",
      "text/plain": [
       "<Figure size 800x600 with 1 Axes>"
      ]
     },
     "metadata": {},
     "output_type": "display_data"
    }
   ],
   "source": [
    "#To visualize the distribution of the 'loan_status' column using a histogram, you can use a data visualization library like Matplotlib or Seaborn. Here's an example using Matplotlib:\n",
    "import matplotlib.pyplot as plt\n",
    "\n",
    "# Convert 'loan_status' column to string\n",
    "dataset[' loan_status'] = dataset[' loan_status'].astype(str)\n",
    "\n",
    "# Remove leading/trailing whitespace\n",
    "dataset[' loan_status'] = dataset[' loan_status'].str.strip()\n",
    "\n",
    "# Create a histogram\n",
    "plt.figure(figsize=(8, 6))\n",
    "dataset[' loan_status'].value_counts().plot(kind='bar')\n",
    "plt.xlabel('Loan Status')\n",
    "plt.ylabel('Count')\n",
    "plt.title('Distribution of Loan Status')\n",
    "plt.xticks(rotation=45)\n",
    "plt.show()"
   ]
  },
  {
   "cell_type": "markdown",
   "id": "00b451ae",
   "metadata": {},
   "source": [
    "# 3.What is the overall loan approval rate in the dataset?"
   ]
  },
  {
   "cell_type": "code",
   "execution_count": 13,
   "id": "68f61d13",
   "metadata": {
    "scrolled": true
   },
   "outputs": [
    {
     "data": {
      "text/plain": [
       "Approved    0.62216\n",
       "Rejected    0.37784\n",
       "Name:  loan_status, dtype: float64"
      ]
     },
     "execution_count": 13,
     "metadata": {},
     "output_type": "execute_result"
    }
   ],
   "source": [
    "dataset[' loan_status'].value_counts(normalize=True)"
   ]
  },
  {
   "cell_type": "markdown",
   "id": "3820131d",
   "metadata": {},
   "source": [
    "# 4.What is the distribution of loan amounts requested?"
   ]
  },
  {
   "cell_type": "code",
   "execution_count": 37,
   "id": "0d0537d8",
   "metadata": {},
   "outputs": [
    {
     "data": {
      "text/plain": [
       "count    4.269000e+03\n",
       "mean     1.513345e+07\n",
       "std      9.043363e+06\n",
       "min      3.000000e+05\n",
       "25%      7.700000e+06\n",
       "50%      1.450000e+07\n",
       "75%      2.150000e+07\n",
       "max      3.950000e+07\n",
       "Name:  loan_amount, dtype: float64"
      ]
     },
     "execution_count": 37,
     "metadata": {},
     "output_type": "execute_result"
    }
   ],
   "source": [
    "# Loan Amount Distribution\n",
    "dataset[' loan_amount'].describe()"
   ]
  },
  {
   "cell_type": "markdown",
   "id": "654cea78",
   "metadata": {},
   "source": [
    "# 5.What is the distribution of loan terms requested?"
   ]
  },
  {
   "cell_type": "code",
   "execution_count": 38,
   "id": "76926649",
   "metadata": {},
   "outputs": [
    {
     "name": "stdout",
     "output_type": "stream",
     "text": [
      "\n",
      "Loan Term Distribution:\n"
     ]
    },
    {
     "data": {
      "text/plain": [
       "6     490\n",
       "12    456\n",
       "4     447\n",
       "10    436\n",
       "18    422\n",
       "16    412\n",
       "20    411\n",
       "14    405\n",
       "2     404\n",
       "8     386\n",
       "Name:  loan_term, dtype: int64"
      ]
     },
     "execution_count": 38,
     "metadata": {},
     "output_type": "execute_result"
    }
   ],
   "source": [
    "# Loan Term Distribution\n",
    "print(\"\\nLoan Term Distribution:\")\n",
    "dataset[' loan_term'].value_counts()"
   ]
  },
  {
   "cell_type": "markdown",
   "id": "c7d45e55",
   "metadata": {},
   "source": [
    "# 6..What is the distribution of CIBIL (credit) scores in the dataset?"
   ]
  },
  {
   "cell_type": "code",
   "execution_count": 39,
   "id": "50611bfc",
   "metadata": {
    "scrolled": true
   },
   "outputs": [
    {
     "name": "stdout",
     "output_type": "stream",
     "text": [
      "\n",
      "Credit Score Distribution:\n"
     ]
    },
    {
     "data": {
      "text/plain": [
       "count    4269.000000\n",
       "mean      599.936051\n",
       "std       172.430401\n",
       "min       300.000000\n",
       "25%       453.000000\n",
       "50%       600.000000\n",
       "75%       748.000000\n",
       "max       900.000000\n",
       "Name:  cibil_score, dtype: float64"
      ]
     },
     "execution_count": 39,
     "metadata": {},
     "output_type": "execute_result"
    }
   ],
   "source": [
    "# Credit Score Distribution\n",
    "print(\"\\nCredit Score Distribution:\")\n",
    "dataset[' cibil_score'].describe()"
   ]
  },
  {
   "cell_type": "markdown",
   "id": "297f884d",
   "metadata": {},
   "source": [
    "# 7.What is the distribution of different asset values (residential, commercial, luxury, and bank assets)?"
   ]
  },
  {
   "cell_type": "code",
   "execution_count": 40,
   "id": "a8e568e3",
   "metadata": {},
   "outputs": [
    {
     "name": "stdout",
     "output_type": "stream",
     "text": [
      "\n",
      "Asset Value Distribution:\n",
      " residential_assets_value:\n",
      "count    4.269000e+03\n",
      "mean     7.472617e+06\n",
      "std      6.503637e+06\n",
      "min     -1.000000e+05\n",
      "25%      2.200000e+06\n",
      "50%      5.600000e+06\n",
      "75%      1.130000e+07\n",
      "max      2.910000e+07\n",
      "Name:  residential_assets_value, dtype: float64\n",
      " commercial_assets_value:\n",
      "count    4.269000e+03\n",
      "mean     4.973155e+06\n",
      "std      4.388966e+06\n",
      "min      0.000000e+00\n",
      "25%      1.300000e+06\n",
      "50%      3.700000e+06\n",
      "75%      7.600000e+06\n",
      "max      1.940000e+07\n",
      "Name:  commercial_assets_value, dtype: float64\n",
      " luxury_assets_value:\n",
      "count    4.269000e+03\n",
      "mean     1.512631e+07\n",
      "std      9.103754e+06\n",
      "min      3.000000e+05\n",
      "25%      7.500000e+06\n",
      "50%      1.460000e+07\n",
      "75%      2.170000e+07\n",
      "max      3.920000e+07\n",
      "Name:  luxury_assets_value, dtype: float64\n",
      " bank_asset_value:\n",
      "count    4.269000e+03\n",
      "mean     4.976692e+06\n",
      "std      3.250185e+06\n",
      "min      0.000000e+00\n",
      "25%      2.300000e+06\n",
      "50%      4.600000e+06\n",
      "75%      7.100000e+06\n",
      "max      1.470000e+07\n",
      "Name:  bank_asset_value, dtype: float64\n"
     ]
    }
   ],
   "source": [
    "# Asset Value Distribution\n",
    "print(\"\\nAsset Value Distribution:\")\n",
    "for asset in [' residential_assets_value', ' commercial_assets_value', ' luxury_assets_value', ' bank_asset_value']:\n",
    "    print(f\"{asset}:\")\n",
    "    print(dataset[asset].describe())"
   ]
  },
  {
   "cell_type": "markdown",
   "id": "c3227429",
   "metadata": {},
   "source": [
    "# 8.How does the number of dependents impact loan approval/rejection?"
   ]
  },
  {
   "cell_type": "code",
   "execution_count": 43,
   "id": "ebb8cd06",
   "metadata": {},
   "outputs": [
    {
     "name": "stdout",
     "output_type": "stream",
     "text": [
      "\n",
      "Dependents Analysis:\n",
      " no_of_dependents   loan_status\n",
      "0                  Approved        0.641854\n",
      "                   Rejected        0.358146\n",
      "1                  Approved        0.616930\n",
      "                   Rejected        0.383070\n",
      "2                  Approved        0.622881\n",
      "                   Rejected        0.377119\n",
      "3                  Approved        0.628611\n",
      "                   Rejected        0.371389\n",
      "4                  Approved        0.618351\n",
      "                   Rejected        0.381649\n",
      "5                  Approved        0.603269\n",
      "                   Rejected        0.396731\n",
      "Name:  loan_status, dtype: float64\n"
     ]
    }
   ],
   "source": [
    "# Dependents Analysis\n",
    "print(\"\\nDependents Analysis:\")\n",
    "print(dataset.groupby(' no_of_dependents')[' loan_status'].value_counts(normalize=True))"
   ]
  },
  {
   "cell_type": "markdown",
   "id": "90554439",
   "metadata": {},
   "source": [
    "# 9.How does the education level (Graduate or Not Graduate) influence loan approval/rejection?"
   ]
  },
  {
   "cell_type": "code",
   "execution_count": 44,
   "id": "6ae83870",
   "metadata": {},
   "outputs": [
    {
     "name": "stdout",
     "output_type": "stream",
     "text": [
      "\n",
      "Education Level Analysis:\n"
     ]
    },
    {
     "data": {
      "text/plain": [
       " education     loan_status\n",
       "Graduate      Approved        0.624534\n",
       "              Rejected        0.375466\n",
       "Not Graduate  Approved        0.619765\n",
       "              Rejected        0.380235\n",
       "Name:  loan_status, dtype: float64"
      ]
     },
     "execution_count": 44,
     "metadata": {},
     "output_type": "execute_result"
    }
   ],
   "source": [
    "# Education Level Analysis\n",
    "print(\"\\nEducation Level Analysis:\")\n",
    "dataset.groupby(' education')[' loan_status'].value_counts(normalize=True)"
   ]
  },
  {
   "cell_type": "markdown",
   "id": "86630aa7",
   "metadata": {},
   "source": [
    "# 10.How does the self-employment status (Yes or No) affect loan approval/rejection?"
   ]
  },
  {
   "cell_type": "code",
   "execution_count": 45,
   "id": "187f9af9",
   "metadata": {},
   "outputs": [
    {
     "name": "stdout",
     "output_type": "stream",
     "text": [
      "\n",
      "Self-Employment Status Analysis:\n"
     ]
    },
    {
     "data": {
      "text/plain": [
       " self_employed   loan_status\n",
       "No              Approved        0.621992\n",
       "                Rejected        0.378008\n",
       "Yes             Approved        0.622326\n",
       "                Rejected        0.377674\n",
       "Name:  loan_status, dtype: float64"
      ]
     },
     "execution_count": 45,
     "metadata": {},
     "output_type": "execute_result"
    }
   ],
   "source": [
    "# Self-Employment Status Analysis\n",
    "print(\"\\nSelf-Employment Status Analysis:\")\n",
    "dataset.groupby(' self_employed')[' loan_status'].value_counts(normalize=True)"
   ]
  },
  {
   "cell_type": "markdown",
   "id": "928ecb7b",
   "metadata": {},
   "source": [
    "# 11.What is the distribution of annual income in the dataset?"
   ]
  },
  {
   "cell_type": "code",
   "execution_count": 46,
   "id": "e1e103e9",
   "metadata": {},
   "outputs": [
    {
     "name": "stdout",
     "output_type": "stream",
     "text": [
      "\n",
      "Income Analysis:\n",
      "count    4.269000e+03\n",
      "mean     5.059124e+06\n",
      "std      2.806840e+06\n",
      "min      2.000000e+05\n",
      "25%      2.700000e+06\n",
      "50%      5.100000e+06\n",
      "75%      7.500000e+06\n",
      "max      9.900000e+06\n",
      "Name:  income_annum, dtype: float64\n"
     ]
    }
   ],
   "source": [
    "# Income Analysis\n",
    "print(\"\\nIncome Analysis:\")\n",
    "print(dataset[' income_annum'].describe())"
   ]
  },
  {
   "cell_type": "code",
   "execution_count": null,
   "id": "a7af6c2b",
   "metadata": {},
   "outputs": [],
   "source": [
    "# Dependents Analysis\n",
    "print(\"\\nDependents Analysis:\")\n",
    "print(data.groupby(' no_of_dependents')[' loan_status'].value_counts(normalize=True))"
   ]
  },
  {
   "cell_type": "markdown",
   "id": "8ee4801a",
   "metadata": {},
   "source": [
    "# 12 .How many people were slef employed and NOt selfemployed"
   ]
  },
  {
   "cell_type": "code",
   "execution_count": 14,
   "id": "bdeefa59",
   "metadata": {},
   "outputs": [],
   "source": [
    "# Convert 'loan_status' column to string\n",
    "dataset[' self_employed'] = dataset[' self_employed'].astype(str)\n",
    "\n",
    "# Count the occurrences of 'Approved' after removing leading/trailing whitespace\n",
    "selfemployed_count = (dataset[' self_employed'].str.strip() == 'Yes').sum()\n",
    "Nonselfemployed_count = (dataset[' self_employed'].str.strip() == 'No').sum()\n"
   ]
  },
  {
   "cell_type": "code",
   "execution_count": 15,
   "id": "fca0400f",
   "metadata": {},
   "outputs": [
    {
     "data": {
      "text/plain": [
       "2119"
      ]
     },
     "execution_count": 15,
     "metadata": {},
     "output_type": "execute_result"
    }
   ],
   "source": [
    "Nonselfemployed_count"
   ]
  },
  {
   "cell_type": "code",
   "execution_count": 16,
   "id": "ab37d960",
   "metadata": {},
   "outputs": [
    {
     "data": {
      "text/plain": [
       "2150"
      ]
     },
     "execution_count": 16,
     "metadata": {},
     "output_type": "execute_result"
    }
   ],
   "source": [
    "selfemployed_count"
   ]
  },
  {
   "cell_type": "code",
   "execution_count": 17,
   "id": "65677f2b",
   "metadata": {
    "scrolled": true
   },
   "outputs": [
    {
     "data": {
      "image/png": "[encoded data removed]",
      "text/plain": [
       "<Figure size 800x600 with 1 Axes>"
      ]
     },
     "metadata": {},
     "output_type": "display_data"
    }
   ],
   "source": [
    "\n",
    "# Convert 'loan_status' column to string\n",
    "dataset[' self_employed'] = dataset[' self_employed'].astype(str)\n",
    "\n",
    "# Remove leading/trailing whitespace\n",
    "dataset[' self_employed'] = dataset[' self_employed'].str.strip()\n",
    "\n",
    "values = dataset[' self_employed'].value_counts().values\n",
    "labels = dataset[' self_employed'].value_counts().index\n",
    "\n",
    "plt.figure(figsize=(8, 6))\n",
    "plt.pie(values, labels=labels, autopct='%1.1f%%')\n",
    "plt.axis('equal')  # Equal aspect ratio ensures the pie chart is drawn as a circle.\n",
    "plt.title('Distribution of Self-Employed')\n",
    "plt.show()"
   ]
  },
  {
   "cell_type": "markdown",
   "id": "048e3dce",
   "metadata": {},
   "source": [
    "# 13.What is the distribution of CIBIL scores across approved and rejected loans?"
   ]
  },
  {
   "cell_type": "code",
   "execution_count": 18,
   "id": "66fc7a1b",
   "metadata": {
    "scrolled": true
   },
   "outputs": [
    {
     "name": "stderr",
     "output_type": "stream",
     "text": [
      "C:\\anaconda\\envs\\aiml\\lib\\site-packages\\ipykernel_launcher.py:17: FutureWarning: \n",
      "\n",
      "`shade` is now deprecated in favor of `fill`; setting `fill=True`.\n",
      "This will become an error in seaborn v0.14.0; please update your code.\n",
      "\n",
      "  app.launch_new_instance()\n",
      "C:\\anaconda\\envs\\aiml\\lib\\site-packages\\ipykernel_launcher.py:21: FutureWarning: \n",
      "\n",
      "`shade` is now deprecated in favor of `fill`; setting `fill=True`.\n",
      "This will become an error in seaborn v0.14.0; please update your code.\n",
      "\n"
     ]
    },
    {
     "data": {
      "image/png": "[encoded data removed]",
      "text/plain": [
       "<Figure size 1000x600 with 1 Axes>"
      ]
     },
     "metadata": {},
     "output_type": "display_data"
    }
   ],
   "source": [
    "import seaborn as sns\n",
    "\n",
    "# Assuming 'dataset' is your pandas DataFrame\n",
    "# and 'loan_status' and 'cibil_score' columns exist\n",
    "\n",
    "# Convert 'loan_status' column to string\n",
    "dataset[' loan_status'] = dataset[' loan_status'].astype(str)\n",
    "\n",
    "# Remove leading/trailing whitespace\n",
    "dataset[' loan_status'] = dataset[' loan_status'].str.strip()\n",
    "\n",
    "# Create a figure and axis\n",
    "fig, ax = plt.subplots(figsize=(10, 6))\n",
    "\n",
    "# Plot the KDE plot for approved loans\n",
    "approved_loans = dataset[dataset[' loan_status'] == 'Approved'][' cibil_score']\n",
    "sns.kdeplot(approved_loans, shade=True, label='Approved Loans', ax=ax)\n",
    "\n",
    "# Plot the KDE plot for rejected loans\n",
    "rejected_loans = dataset[dataset[' loan_status'] != 'Approved'][' cibil_score']\n",
    "sns.kdeplot(rejected_loans, shade=True, label='Rejected Loans', ax=ax)\n",
    "\n",
    "# Set plot title and labels\n",
    "ax.set_title('Distribution of CIBIL Scores across Approved and Rejected Loans')\n",
    "ax.set_xlabel('CIBIL Score')\n",
    "ax.set_ylabel('Density')\n",
    "\n",
    "# Add legend\n",
    "ax.legend()\n",
    "\n",
    "# Show the plot\n",
    "plt.show()"
   ]
  },
  {
   "cell_type": "markdown",
   "id": "0e9033d0",
   "metadata": {},
   "source": [
    "# 13.How does the income_annum distribution differ between graduates and non-graduates?"
   ]
  },
  {
   "cell_type": "code",
   "execution_count": 19,
   "id": "434ed485",
   "metadata": {},
   "outputs": [],
   "source": [
    "# Convert 'loan_status' column to string\n",
    "dataset[' education'] = dataset[' education'].astype(str)\n",
    "\n",
    "# Count the occurrences of 'Approved' after removing leading/trailing whitespace\n",
    "Graduate= (dataset[' education'].str.strip() == 'Graduate').sum()\n",
    "Not_Graduate = (dataset[' education'].str.strip() == 'Not Graduate').sum()"
   ]
  },
  {
   "cell_type": "code",
   "execution_count": 20,
   "id": "cd0f9408",
   "metadata": {},
   "outputs": [
    {
     "data": {
      "text/plain": [
       "2144"
      ]
     },
     "execution_count": 20,
     "metadata": {},
     "output_type": "execute_result"
    }
   ],
   "source": [
    "Graduate"
   ]
  },
  {
   "cell_type": "code",
   "execution_count": 21,
   "id": "1de83adc",
   "metadata": {},
   "outputs": [
    {
     "data": {
      "text/plain": [
       "2125"
      ]
     },
     "execution_count": 21,
     "metadata": {},
     "output_type": "execute_result"
    }
   ],
   "source": [
    "Not_Graduate"
   ]
  },
  {
   "cell_type": "code",
   "execution_count": 22,
   "id": "1dc820af",
   "metadata": {},
   "outputs": [
    {
     "data": {
      "image/png": "[encoded data removed]",
      "text/plain": [
       "<Figure size 800x600 with 1 Axes>"
      ]
     },
     "metadata": {},
     "output_type": "display_data"
    }
   ],
   "source": [
    "\n",
    "# Convert 'education' column to string\n",
    "dataset[' education'] = dataset[' education'].astype(str)\n",
    "\n",
    "# Remove leading/trailing whitespace\n",
    "dataset[' education'] = dataset[' education'].str.strip()\n",
    "\n",
    "# Create a figure and axis\n",
    "fig, ax = plt.subplots(figsize=(8, 6))\n",
    "\n",
    "# Split the data into graduates and non-graduates\n",
    "graduates = dataset[dataset[' education'].str.contains('Graduate')]\n",
    "non_graduates = dataset[~dataset[' education'].str.contains('Not Graduate')]\n",
    "\n",
    "# Calculate mean income_annum for each group\n",
    "mean_income_graduates = graduates[' income_annum'].mean()\n",
    "mean_income_non_graduates = non_graduates[' income_annum'].mean()\n",
    "\n",
    "# Create a bar plot\n",
    "bar_data = [mean_income_non_graduates, mean_income_graduates]\n",
    "bar_labels = ['Non-Graduates', 'Graduates']\n",
    "bar_colors = ['lightcoral', 'lightgreen']\n",
    "\n",
    "ax.bar(bar_labels, bar_data, color=bar_colors)\n",
    "\n",
    "# Set plot title and labels\n",
    "ax.set_title('Mean Income_Annum for Graduates and Non-Graduates')\n",
    "ax.set_xlabel('Education Level')\n",
    "ax.set_ylabel('Mean Income_Annum')\n",
    "\n",
    "# Rotate x-axis labels\n",
    "plt.xticks(rotation=45)\n",
    "\n",
    "# Show the plot\n",
    "plt.show()"
   ]
  },
  {
   "cell_type": "markdown",
   "id": "ed44ab46",
   "metadata": {},
   "source": [
    "# 14.Is there a correlation between loan_amount and income_annum?"
   ]
  },
  {
   "cell_type": "code",
   "execution_count": 23,
   "id": "16f2333a",
   "metadata": {},
   "outputs": [],
   "source": [
    "# Convert 'loan_status' column to string\n",
    "dataset[' education'] = dataset[' education'].astype(str)\n",
    "\n",
    "# Count the occurrences of 'Approved' after removing leading/trailing whitespace\n",
    "Graduate= (dataset[' education'].str.strip() == 'Graduate').sum()\n",
    "Not_Graduate = (dataset[' education'].str.strip() == 'Not Graduate').sum()\n",
    "mean_income_graduates = graduates[' income_annum'].mean()\n",
    "mean_income_non_graduates = non_graduates[' income_annum'].mean()"
   ]
  },
  {
   "cell_type": "code",
   "execution_count": 24,
   "id": "81a6d7e7",
   "metadata": {},
   "outputs": [
    {
     "data": {
      "text/plain": [
       "5059123.9166081045"
      ]
     },
     "execution_count": 24,
     "metadata": {},
     "output_type": "execute_result"
    }
   ],
   "source": [
    "mean_income_graduates "
   ]
  },
  {
   "cell_type": "code",
   "execution_count": 25,
   "id": "8a2351f6",
   "metadata": {},
   "outputs": [
    {
     "data": {
      "text/plain": [
       "5091604.47761194"
      ]
     },
     "execution_count": 25,
     "metadata": {},
     "output_type": "execute_result"
    }
   ],
   "source": [
    "mean_income_non_graduates "
   ]
  },
  {
   "cell_type": "code",
   "execution_count": 26,
   "id": "ff8943e2",
   "metadata": {
    "scrolled": true
   },
   "outputs": [
    {
     "data": {
      "image/png": "[encoded data removed]",
      "text/plain": [
       "<Figure size 800x600 with 1 Axes>"
      ]
     },
     "metadata": {},
     "output_type": "display_data"
    }
   ],
   "source": [
    "dataset[' education'] = dataset[' education'].astype(str)\n",
    "\n",
    "# Remove leading/trailing whitespace\n",
    "dataset[' education'] = dataset[' education'].str.strip()\n",
    "\n",
    "# Create a figure and axis\n",
    "fig, ax = plt.subplots(figsize=(8, 6))\n",
    "\n",
    "# Split the data into graduates and non-graduates\n",
    "graduates = dataset[dataset[' education'].str.contains('Graduate')]\n",
    "non_graduates = dataset[~dataset[' education'].str.contains('Not Graduate')]\n",
    "\n",
    "# Calculate mean income_annum for each group\n",
    "mean_income_graduates = graduates[' income_annum'].mean()\n",
    "mean_income_non_graduates = non_graduates[' income_annum'].mean()\n",
    "\n",
    "# Create a bar plot\n",
    "bar_data = [mean_income_non_graduates, mean_income_graduates]\n",
    "bar_labels = ['Non-Graduates', 'Graduates']\n",
    "bar_colors = ['lightcoral', 'lightgreen']\n",
    "\n",
    "# Plot the bars\n",
    "bar_positions = range(len(bar_data))\n",
    "bar_heights = ax.bar(bar_positions, bar_data, color=bar_colors)\n",
    "\n",
    "# Add labels to the bars\n",
    "for bar, label in zip(bar_heights, bar_data):\n",
    "    height = bar.get_height()\n",
    "    ax.annotate(f'{label:.2f}',\n",
    "                xy=(bar.get_x() + bar.get_width() / 2, height),\n",
    "                xytext=(0, 3),\n",
    "                textcoords=\"offset points\",\n",
    "                ha='center', va='bottom')\n",
    "\n",
    "# Set x-axis tick labels\n",
    "ax.set_xticks(bar_positions)\n",
    "ax.set_xticklabels(bar_labels)\n",
    "\n",
    "# Set plot title and labels\n",
    "ax.set_title('Mean Income_Annum for Graduates and Non-Graduates')\n",
    "ax.set_xlabel('Education Level')\n",
    "ax.set_ylabel('Mean Income_Annum')\n",
    "\n",
    "# Rotate x-axis labels\n",
    "plt.xticks(rotation=45)\n",
    "\n",
    "# Show the plot\n",
    "plt.show()"
   ]
  },
  {
   "cell_type": "markdown",
   "id": "7f8147d5",
   "metadata": {},
   "source": [
    "# 15.Is there a correlation between loan_amount and income_annum?"
   ]
  },
  {
   "cell_type": "code",
   "execution_count": 27,
   "id": "74d95e53",
   "metadata": {},
   "outputs": [
    {
     "data": {
      "image/png": "[encoded data removed]",
      "text/plain": [
       "<Figure size 640x480 with 1 Axes>"
      ]
     },
     "metadata": {},
     "output_type": "display_data"
    }
   ],
   "source": [
    "import seaborn as sns\n",
    "import matplotlib.pyplot as plt\n",
    "\n",
    "# Assuming 'loan_amount' and 'income_annum' columns exist in the dataset\n",
    "sns.scatterplot(x=' loan_amount', y=' income_annum', data=dataset)\n",
    "plt.title('Correlation between Loan Amount and Income')\n",
    "plt.show()"
   ]
  },
  {
   "cell_type": "code",
   "execution_count": 28,
   "id": "7fc92e9f",
   "metadata": {},
   "outputs": [
    {
     "data": {
      "text/plain": [
       "0.9274699109871487"
      ]
     },
     "execution_count": 28,
     "metadata": {},
     "output_type": "execute_result"
    }
   ],
   "source": [
    "# Calculate the correlation coefficient\n",
    "loan_amount_income_corr = dataset[' loan_amount'].corr(dataset[' income_annum'])\n",
    "loan_amount_income_corr"
   ]
  },
  {
   "cell_type": "markdown",
   "id": "6b44705a",
   "metadata": {},
   "source": [
    "# 16.Compare the average loan_term between approved and rejected loans"
   ]
  },
  {
   "cell_type": "code",
   "execution_count": 29,
   "id": "f4f39dd5",
   "metadata": {
    "scrolled": true
   },
   "outputs": [
    {
     "name": "stdout",
     "output_type": "stream",
     "text": [
      "Average Loan Term for Approved Loans: 10.397590361445783\n",
      "Average Loan Term for Rejected Loans: 11.728456292622443\n"
     ]
    }
   ],
   "source": [
    "dataset['loan_status_numeric'] = dataset[' loan_status'].map({'Approved': 1, 'Rejected': 0})\n",
    "\n",
    "# Group the data by 'loan_status' and calculate the mean 'loan_term'\n",
    "avg_loan_term = dataset.groupby('loan_status_numeric')[' loan_term'].mean()\n",
    "\n",
    "# Print the results\n",
    "print(\"Average Loan Term for Approved Loans:\", avg_loan_term[1])\n",
    "print(\"Average Loan Term for Rejected Loans:\", avg_loan_term[0])"
   ]
  },
  {
   "cell_type": "markdown",
   "id": "99f455b4",
   "metadata": {},
   "source": [
    "# 17.What is the average value of loan_amount?\n"
   ]
  },
  {
   "cell_type": "code",
   "execution_count": 30,
   "id": "40a2e476",
   "metadata": {},
   "outputs": [
    {
     "data": {
      "text/plain": [
       "15133450.456781447"
      ]
     },
     "execution_count": 30,
     "metadata": {},
     "output_type": "execute_result"
    }
   ],
   "source": [
    "dataset[' loan_amount'].mean()"
   ]
  },
  {
   "cell_type": "markdown",
   "id": "989afa03",
   "metadata": {},
   "source": [
    "# 18.What is the most frequently repeated value of loan_amount?"
   ]
  },
  {
   "cell_type": "code",
   "execution_count": 31,
   "id": "70e99c80",
   "metadata": {},
   "outputs": [
    {
     "data": {
      "text/plain": [
       "10600000"
      ]
     },
     "execution_count": 31,
     "metadata": {},
     "output_type": "execute_result"
    }
   ],
   "source": [
    "dataset[' loan_amount'].mode()[0]"
   ]
  },
  {
   "cell_type": "markdown",
   "id": "e7714584",
   "metadata": {},
   "source": [
    "# 19.what kind of relationship between cibil_score and loan_amount"
   ]
  },
  {
   "cell_type": "code",
   "execution_count": 32,
   "id": "cbebddf5",
   "metadata": {
    "scrolled": true
   },
   "outputs": [
    {
     "data": {
      "text/html": [
       "<div>\n",
       "<style scoped>\n",
       "    .dataframe tbody tr th:only-of-type {\n",
       "        vertical-align: middle;\n",
       "    }\n",
       "\n",
       "    .dataframe tbody tr th {\n",
       "        vertical-align: top;\n",
       "    }\n",
       "\n",
       "    .dataframe thead th {\n",
       "        text-align: right;\n",
       "    }\n",
       "</style>\n",
       "<table border=\"1\" class=\"dataframe\">\n",
       "  <thead>\n",
       "    <tr style=\"text-align: right;\">\n",
       "      <th></th>\n",
       "      <th>loan_id</th>\n",
       "      <th>no_of_dependents</th>\n",
       "      <th>income_annum</th>\n",
       "      <th>loan_amount</th>\n",
       "      <th>loan_term</th>\n",
       "      <th>cibil_score</th>\n",
       "      <th>residential_assets_value</th>\n",
       "      <th>commercial_assets_value</th>\n",
       "      <th>luxury_assets_value</th>\n",
       "      <th>bank_asset_value</th>\n",
       "      <th>loan_status_numeric</th>\n",
       "    </tr>\n",
       "  </thead>\n",
       "  <tbody>\n",
       "    <tr>\n",
       "      <th>loan_id</th>\n",
       "      <td>1.000000</td>\n",
       "      <td>0.005326</td>\n",
       "      <td>0.012592</td>\n",
       "      <td>0.008170</td>\n",
       "      <td>0.009809</td>\n",
       "      <td>0.016323</td>\n",
       "      <td>0.020936</td>\n",
       "      <td>0.018595</td>\n",
       "      <td>-0.000862</td>\n",
       "      <td>0.010765</td>\n",
       "      <td>0.017685</td>\n",
       "    </tr>\n",
       "    <tr>\n",
       "      <th>no_of_dependents</th>\n",
       "      <td>0.005326</td>\n",
       "      <td>1.000000</td>\n",
       "      <td>0.007266</td>\n",
       "      <td>-0.003366</td>\n",
       "      <td>-0.020111</td>\n",
       "      <td>-0.009998</td>\n",
       "      <td>0.007376</td>\n",
       "      <td>-0.001531</td>\n",
       "      <td>0.002817</td>\n",
       "      <td>0.011163</td>\n",
       "      <td>-0.018114</td>\n",
       "    </tr>\n",
       "    <tr>\n",
       "      <th>income_annum</th>\n",
       "      <td>0.012592</td>\n",
       "      <td>0.007266</td>\n",
       "      <td>1.000000</td>\n",
       "      <td>0.927470</td>\n",
       "      <td>0.011488</td>\n",
       "      <td>-0.023034</td>\n",
       "      <td>0.636841</td>\n",
       "      <td>0.640328</td>\n",
       "      <td>0.929145</td>\n",
       "      <td>0.851093</td>\n",
       "      <td>-0.015189</td>\n",
       "    </tr>\n",
       "    <tr>\n",
       "      <th>loan_amount</th>\n",
       "      <td>0.008170</td>\n",
       "      <td>-0.003366</td>\n",
       "      <td>0.927470</td>\n",
       "      <td>1.000000</td>\n",
       "      <td>0.008437</td>\n",
       "      <td>-0.017035</td>\n",
       "      <td>0.594596</td>\n",
       "      <td>0.603188</td>\n",
       "      <td>0.860914</td>\n",
       "      <td>0.788122</td>\n",
       "      <td>0.016150</td>\n",
       "    </tr>\n",
       "    <tr>\n",
       "      <th>loan_term</th>\n",
       "      <td>0.009809</td>\n",
       "      <td>-0.020111</td>\n",
       "      <td>0.011488</td>\n",
       "      <td>0.008437</td>\n",
       "      <td>1.000000</td>\n",
       "      <td>0.007810</td>\n",
       "      <td>0.008016</td>\n",
       "      <td>-0.005478</td>\n",
       "      <td>0.012490</td>\n",
       "      <td>0.017177</td>\n",
       "      <td>-0.113036</td>\n",
       "    </tr>\n",
       "    <tr>\n",
       "      <th>cibil_score</th>\n",
       "      <td>0.016323</td>\n",
       "      <td>-0.009998</td>\n",
       "      <td>-0.023034</td>\n",
       "      <td>-0.017035</td>\n",
       "      <td>0.007810</td>\n",
       "      <td>1.000000</td>\n",
       "      <td>-0.019947</td>\n",
       "      <td>-0.003769</td>\n",
       "      <td>-0.028618</td>\n",
       "      <td>-0.015478</td>\n",
       "      <td>0.770518</td>\n",
       "    </tr>\n",
       "    <tr>\n",
       "      <th>residential_assets_value</th>\n",
       "      <td>0.020936</td>\n",
       "      <td>0.007376</td>\n",
       "      <td>0.636841</td>\n",
       "      <td>0.594596</td>\n",
       "      <td>0.008016</td>\n",
       "      <td>-0.019947</td>\n",
       "      <td>1.000000</td>\n",
       "      <td>0.414786</td>\n",
       "      <td>0.590932</td>\n",
       "      <td>0.527418</td>\n",
       "      <td>-0.014367</td>\n",
       "    </tr>\n",
       "    <tr>\n",
       "      <th>commercial_assets_value</th>\n",
       "      <td>0.018595</td>\n",
       "      <td>-0.001531</td>\n",
       "      <td>0.640328</td>\n",
       "      <td>0.603188</td>\n",
       "      <td>-0.005478</td>\n",
       "      <td>-0.003769</td>\n",
       "      <td>0.414786</td>\n",
       "      <td>1.000000</td>\n",
       "      <td>0.591128</td>\n",
       "      <td>0.548576</td>\n",
       "      <td>0.008246</td>\n",
       "    </tr>\n",
       "    <tr>\n",
       "      <th>luxury_assets_value</th>\n",
       "      <td>-0.000862</td>\n",
       "      <td>0.002817</td>\n",
       "      <td>0.929145</td>\n",
       "      <td>0.860914</td>\n",
       "      <td>0.012490</td>\n",
       "      <td>-0.028618</td>\n",
       "      <td>0.590932</td>\n",
       "      <td>0.591128</td>\n",
       "      <td>1.000000</td>\n",
       "      <td>0.788517</td>\n",
       "      <td>-0.015465</td>\n",
       "    </tr>\n",
       "    <tr>\n",
       "      <th>bank_asset_value</th>\n",
       "      <td>0.010765</td>\n",
       "      <td>0.011163</td>\n",
       "      <td>0.851093</td>\n",
       "      <td>0.788122</td>\n",
       "      <td>0.017177</td>\n",
       "      <td>-0.015478</td>\n",
       "      <td>0.527418</td>\n",
       "      <td>0.548576</td>\n",
       "      <td>0.788517</td>\n",
       "      <td>1.000000</td>\n",
       "      <td>-0.006778</td>\n",
       "    </tr>\n",
       "    <tr>\n",
       "      <th>loan_status_numeric</th>\n",
       "      <td>0.017685</td>\n",
       "      <td>-0.018114</td>\n",
       "      <td>-0.015189</td>\n",
       "      <td>0.016150</td>\n",
       "      <td>-0.113036</td>\n",
       "      <td>0.770518</td>\n",
       "      <td>-0.014367</td>\n",
       "      <td>0.008246</td>\n",
       "      <td>-0.015465</td>\n",
       "      <td>-0.006778</td>\n",
       "      <td>1.000000</td>\n",
       "    </tr>\n",
       "  </tbody>\n",
       "</table>\n",
       "</div>"
      ],
      "text/plain": [
       "                            loan_id   no_of_dependents   income_annum  \\\n",
       "loan_id                    1.000000           0.005326       0.012592   \n",
       " no_of_dependents          0.005326           1.000000       0.007266   \n",
       " income_annum              0.012592           0.007266       1.000000   \n",
       " loan_amount               0.008170          -0.003366       0.927470   \n",
       " loan_term                 0.009809          -0.020111       0.011488   \n",
       " cibil_score               0.016323          -0.009998      -0.023034   \n",
       " residential_assets_value  0.020936           0.007376       0.636841   \n",
       " commercial_assets_value   0.018595          -0.001531       0.640328   \n",
       " luxury_assets_value      -0.000862           0.002817       0.929145   \n",
       " bank_asset_value          0.010765           0.011163       0.851093   \n",
       "loan_status_numeric        0.017685          -0.018114      -0.015189   \n",
       "\n",
       "                            loan_amount   loan_term   cibil_score  \\\n",
       "loan_id                        0.008170    0.009809      0.016323   \n",
       " no_of_dependents             -0.003366   -0.020111     -0.009998   \n",
       " income_annum                  0.927470    0.011488     -0.023034   \n",
       " loan_amount                   1.000000    0.008437     -0.017035   \n",
       " loan_term                     0.008437    1.000000      0.007810   \n",
       " cibil_score                  -0.017035    0.007810      1.000000   \n",
       " residential_assets_value      0.594596    0.008016     -0.019947   \n",
       " commercial_assets_value       0.603188   -0.005478     -0.003769   \n",
       " luxury_assets_value           0.860914    0.012490     -0.028618   \n",
       " bank_asset_value              0.788122    0.017177     -0.015478   \n",
       "loan_status_numeric            0.016150   -0.113036      0.770518   \n",
       "\n",
       "                            residential_assets_value  \\\n",
       "loan_id                                     0.020936   \n",
       " no_of_dependents                           0.007376   \n",
       " income_annum                               0.636841   \n",
       " loan_amount                                0.594596   \n",
       " loan_term                                  0.008016   \n",
       " cibil_score                               -0.019947   \n",
       " residential_assets_value                   1.000000   \n",
       " commercial_assets_value                    0.414786   \n",
       " luxury_assets_value                        0.590932   \n",
       " bank_asset_value                           0.527418   \n",
       "loan_status_numeric                        -0.014367   \n",
       "\n",
       "                            commercial_assets_value   luxury_assets_value  \\\n",
       "loan_id                                    0.018595             -0.000862   \n",
       " no_of_dependents                         -0.001531              0.002817   \n",
       " income_annum                              0.640328              0.929145   \n",
       " loan_amount                               0.603188              0.860914   \n",
       " loan_term                                -0.005478              0.012490   \n",
       " cibil_score                              -0.003769             -0.028618   \n",
       " residential_assets_value                  0.414786              0.590932   \n",
       " commercial_assets_value                   1.000000              0.591128   \n",
       " luxury_assets_value                       0.591128              1.000000   \n",
       " bank_asset_value                          0.548576              0.788517   \n",
       "loan_status_numeric                        0.008246             -0.015465   \n",
       "\n",
       "                            bank_asset_value  loan_status_numeric  \n",
       "loan_id                             0.010765             0.017685  \n",
       " no_of_dependents                   0.011163            -0.018114  \n",
       " income_annum                       0.851093            -0.015189  \n",
       " loan_amount                        0.788122             0.016150  \n",
       " loan_term                          0.017177            -0.113036  \n",
       " cibil_score                       -0.015478             0.770518  \n",
       " residential_assets_value           0.527418            -0.014367  \n",
       " commercial_assets_value            0.548576             0.008246  \n",
       " luxury_assets_value                0.788517            -0.015465  \n",
       " bank_asset_value                   1.000000            -0.006778  \n",
       "loan_status_numeric                -0.006778             1.000000  "
      ]
     },
     "execution_count": 32,
     "metadata": {},
     "output_type": "execute_result"
    }
   ],
   "source": [
    "dataset.corr()"
   ]
  },
  {
   "cell_type": "markdown",
   "id": "1d99a677",
   "metadata": {},
   "source": [
    "# 20.How many people get loan  approved with no. of dependents morethan 2 "
   ]
  },
  {
   "cell_type": "code",
   "execution_count": 33,
   "id": "cbdd733c",
   "metadata": {},
   "outputs": [],
   "source": [
    "filtered_data = dataset[(dataset[' no_of_dependents'] > 2) & (dataset[' loan_status'] == 'Approved')]"
   ]
  },
  {
   "cell_type": "code",
   "execution_count": 34,
   "id": "596f65d1",
   "metadata": {},
   "outputs": [
    {
     "data": {
      "text/html": [
       "<div>\n",
       "<style scoped>\n",
       "    .dataframe tbody tr th:only-of-type {\n",
       "        vertical-align: middle;\n",
       "    }\n",
       "\n",
       "    .dataframe tbody tr th {\n",
       "        vertical-align: top;\n",
       "    }\n",
       "\n",
       "    .dataframe thead th {\n",
       "        text-align: right;\n",
       "    }\n",
       "</style>\n",
       "<table border=\"1\" class=\"dataframe\">\n",
       "  <thead>\n",
       "    <tr style=\"text-align: right;\">\n",
       "      <th></th>\n",
       "      <th>loan_id</th>\n",
       "      <th>no_of_dependents</th>\n",
       "      <th>education</th>\n",
       "      <th>self_employed</th>\n",
       "      <th>income_annum</th>\n",
       "      <th>loan_amount</th>\n",
       "      <th>loan_term</th>\n",
       "      <th>cibil_score</th>\n",
       "      <th>residential_assets_value</th>\n",
       "      <th>commercial_assets_value</th>\n",
       "      <th>luxury_assets_value</th>\n",
       "      <th>bank_asset_value</th>\n",
       "      <th>loan_status</th>\n",
       "      <th>loan_status_numeric</th>\n",
       "    </tr>\n",
       "  </thead>\n",
       "  <tbody>\n",
       "    <tr>\n",
       "      <th>6</th>\n",
       "      <td>7</td>\n",
       "      <td>5</td>\n",
       "      <td>Graduate</td>\n",
       "      <td>No</td>\n",
       "      <td>8700000</td>\n",
       "      <td>33000000</td>\n",
       "      <td>4</td>\n",
       "      <td>678</td>\n",
       "      <td>22500000</td>\n",
       "      <td>14800000</td>\n",
       "      <td>29200000</td>\n",
       "      <td>4300000</td>\n",
       "      <td>Approved</td>\n",
       "      <td>1</td>\n",
       "    </tr>\n",
       "    <tr>\n",
       "      <th>10</th>\n",
       "      <td>11</td>\n",
       "      <td>4</td>\n",
       "      <td>Graduate</td>\n",
       "      <td>Yes</td>\n",
       "      <td>2900000</td>\n",
       "      <td>11200000</td>\n",
       "      <td>2</td>\n",
       "      <td>547</td>\n",
       "      <td>8100000</td>\n",
       "      <td>4700000</td>\n",
       "      <td>9500000</td>\n",
       "      <td>3100000</td>\n",
       "      <td>Approved</td>\n",
       "      <td>1</td>\n",
       "    </tr>\n",
       "    <tr>\n",
       "      <th>15</th>\n",
       "      <td>16</td>\n",
       "      <td>5</td>\n",
       "      <td>Not Graduate</td>\n",
       "      <td>No</td>\n",
       "      <td>4700000</td>\n",
       "      <td>10700000</td>\n",
       "      <td>10</td>\n",
       "      <td>794</td>\n",
       "      <td>5700000</td>\n",
       "      <td>3900000</td>\n",
       "      <td>16400000</td>\n",
       "      <td>4400000</td>\n",
       "      <td>Approved</td>\n",
       "      <td>1</td>\n",
       "    </tr>\n",
       "    <tr>\n",
       "      <th>17</th>\n",
       "      <td>18</td>\n",
       "      <td>4</td>\n",
       "      <td>Not Graduate</td>\n",
       "      <td>Yes</td>\n",
       "      <td>2900000</td>\n",
       "      <td>9400000</td>\n",
       "      <td>14</td>\n",
       "      <td>780</td>\n",
       "      <td>2900000</td>\n",
       "      <td>2800000</td>\n",
       "      <td>6700000</td>\n",
       "      <td>4300000</td>\n",
       "      <td>Approved</td>\n",
       "      <td>1</td>\n",
       "    </tr>\n",
       "    <tr>\n",
       "      <th>19</th>\n",
       "      <td>20</td>\n",
       "      <td>5</td>\n",
       "      <td>Graduate</td>\n",
       "      <td>No</td>\n",
       "      <td>6300000</td>\n",
       "      <td>14600000</td>\n",
       "      <td>12</td>\n",
       "      <td>652</td>\n",
       "      <td>10300000</td>\n",
       "      <td>3500000</td>\n",
       "      <td>23500000</td>\n",
       "      <td>5900000</td>\n",
       "      <td>Approved</td>\n",
       "      <td>1</td>\n",
       "    </tr>\n",
       "    <tr>\n",
       "      <th>...</th>\n",
       "      <td>...</td>\n",
       "      <td>...</td>\n",
       "      <td>...</td>\n",
       "      <td>...</td>\n",
       "      <td>...</td>\n",
       "      <td>...</td>\n",
       "      <td>...</td>\n",
       "      <td>...</td>\n",
       "      <td>...</td>\n",
       "      <td>...</td>\n",
       "      <td>...</td>\n",
       "      <td>...</td>\n",
       "      <td>...</td>\n",
       "      <td>...</td>\n",
       "    </tr>\n",
       "    <tr>\n",
       "      <th>4249</th>\n",
       "      <td>4250</td>\n",
       "      <td>4</td>\n",
       "      <td>Graduate</td>\n",
       "      <td>No</td>\n",
       "      <td>1100000</td>\n",
       "      <td>4000000</td>\n",
       "      <td>14</td>\n",
       "      <td>887</td>\n",
       "      <td>2400000</td>\n",
       "      <td>1500000</td>\n",
       "      <td>4200000</td>\n",
       "      <td>1600000</td>\n",
       "      <td>Approved</td>\n",
       "      <td>1</td>\n",
       "    </tr>\n",
       "    <tr>\n",
       "      <th>4253</th>\n",
       "      <td>4254</td>\n",
       "      <td>5</td>\n",
       "      <td>Graduate</td>\n",
       "      <td>Yes</td>\n",
       "      <td>7000000</td>\n",
       "      <td>26200000</td>\n",
       "      <td>12</td>\n",
       "      <td>896</td>\n",
       "      <td>13100000</td>\n",
       "      <td>6600000</td>\n",
       "      <td>23600000</td>\n",
       "      <td>5700000</td>\n",
       "      <td>Approved</td>\n",
       "      <td>1</td>\n",
       "    </tr>\n",
       "    <tr>\n",
       "      <th>4260</th>\n",
       "      <td>4261</td>\n",
       "      <td>5</td>\n",
       "      <td>Graduate</td>\n",
       "      <td>No</td>\n",
       "      <td>8800000</td>\n",
       "      <td>29300000</td>\n",
       "      <td>10</td>\n",
       "      <td>560</td>\n",
       "      <td>16800000</td>\n",
       "      <td>13900000</td>\n",
       "      <td>31100000</td>\n",
       "      <td>9900000</td>\n",
       "      <td>Approved</td>\n",
       "      <td>1</td>\n",
       "    </tr>\n",
       "    <tr>\n",
       "      <th>4261</th>\n",
       "      <td>4262</td>\n",
       "      <td>3</td>\n",
       "      <td>Graduate</td>\n",
       "      <td>Yes</td>\n",
       "      <td>3000000</td>\n",
       "      <td>7500000</td>\n",
       "      <td>6</td>\n",
       "      <td>881</td>\n",
       "      <td>1400000</td>\n",
       "      <td>4500000</td>\n",
       "      <td>6100000</td>\n",
       "      <td>2300000</td>\n",
       "      <td>Approved</td>\n",
       "      <td>1</td>\n",
       "    </tr>\n",
       "    <tr>\n",
       "      <th>4263</th>\n",
       "      <td>4264</td>\n",
       "      <td>3</td>\n",
       "      <td>Graduate</td>\n",
       "      <td>No</td>\n",
       "      <td>5000000</td>\n",
       "      <td>12700000</td>\n",
       "      <td>14</td>\n",
       "      <td>865</td>\n",
       "      <td>4700000</td>\n",
       "      <td>8100000</td>\n",
       "      <td>19500000</td>\n",
       "      <td>6300000</td>\n",
       "      <td>Approved</td>\n",
       "      <td>1</td>\n",
       "    </tr>\n",
       "  </tbody>\n",
       "</table>\n",
       "<p>1328 rows × 14 columns</p>\n",
       "</div>"
      ],
      "text/plain": [
       "      loan_id   no_of_dependents     education  self_employed   income_annum  \\\n",
       "6           7                  5      Graduate             No        8700000   \n",
       "10         11                  4      Graduate            Yes        2900000   \n",
       "15         16                  5  Not Graduate             No        4700000   \n",
       "17         18                  4  Not Graduate            Yes        2900000   \n",
       "19         20                  5      Graduate             No        6300000   \n",
       "...       ...                ...           ...            ...            ...   \n",
       "4249     4250                  4      Graduate             No        1100000   \n",
       "4253     4254                  5      Graduate            Yes        7000000   \n",
       "4260     4261                  5      Graduate             No        8800000   \n",
       "4261     4262                  3      Graduate            Yes        3000000   \n",
       "4263     4264                  3      Graduate             No        5000000   \n",
       "\n",
       "       loan_amount   loan_term   cibil_score   residential_assets_value  \\\n",
       "6         33000000           4           678                   22500000   \n",
       "10        11200000           2           547                    8100000   \n",
       "15        10700000          10           794                    5700000   \n",
       "17         9400000          14           780                    2900000   \n",
       "19        14600000          12           652                   10300000   \n",
       "...            ...         ...           ...                        ...   \n",
       "4249       4000000          14           887                    2400000   \n",
       "4253      26200000          12           896                   13100000   \n",
       "4260      29300000          10           560                   16800000   \n",
       "4261       7500000           6           881                    1400000   \n",
       "4263      12700000          14           865                    4700000   \n",
       "\n",
       "       commercial_assets_value   luxury_assets_value   bank_asset_value  \\\n",
       "6                     14800000              29200000            4300000   \n",
       "10                     4700000               9500000            3100000   \n",
       "15                     3900000              16400000            4400000   \n",
       "17                     2800000               6700000            4300000   \n",
       "19                     3500000              23500000            5900000   \n",
       "...                        ...                   ...                ...   \n",
       "4249                   1500000               4200000            1600000   \n",
       "4253                   6600000              23600000            5700000   \n",
       "4260                  13900000              31100000            9900000   \n",
       "4261                   4500000               6100000            2300000   \n",
       "4263                   8100000              19500000            6300000   \n",
       "\n",
       "      loan_status  loan_status_numeric  \n",
       "6        Approved                    1  \n",
       "10       Approved                    1  \n",
       "15       Approved                    1  \n",
       "17       Approved                    1  \n",
       "19       Approved                    1  \n",
       "...           ...                  ...  \n",
       "4249     Approved                    1  \n",
       "4253     Approved                    1  \n",
       "4260     Approved                    1  \n",
       "4261     Approved                    1  \n",
       "4263     Approved                    1  \n",
       "\n",
       "[1328 rows x 14 columns]"
      ]
     },
     "execution_count": 34,
     "metadata": {},
     "output_type": "execute_result"
    }
   ],
   "source": [
    "filtered_data "
   ]
  },
  {
   "cell_type": "code",
   "execution_count": 35,
   "id": "57d857d3",
   "metadata": {},
   "outputs": [],
   "source": [
    "count_filtered_data = filtered_data.shape[0]"
   ]
  },
  {
   "cell_type": "code",
   "execution_count": 36,
   "id": "72592c51",
   "metadata": {},
   "outputs": [
    {
     "data": {
      "text/plain": [
       "1328"
      ]
     },
     "execution_count": 36,
     "metadata": {},
     "output_type": "execute_result"
    }
   ],
   "source": [
    "count_filtered_data"
   ]
  },
  {
   "cell_type": "code",
   "execution_count": null,
   "id": "9a699a39",
   "metadata": {},
   "outputs": [],
   "source": []
  }
 ],
 "metadata": {
  "kernelspec": {
   "display_name": "Python 3 (ipykernel)",
   "language": "python",
   "name": "python3"
  },
  "language_info": {
   "codemirror_mode": {
    "name": "ipython",
    "version": 3
   },
   "file_extension": ".py",
   "mimetype": "text/x-python",
   "name": "python",
   "nbconvert_exporter": "python",
   "pygments_lexer": "ipython3",
   "version": "3.7.6"
  }
 },
 "nbformat": 4,
 "nbformat_minor": 5
}
